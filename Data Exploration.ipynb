{
 "cells": [
  {
   "cell_type": "code",
   "execution_count": 1,
   "id": "7eec8cc8",
   "metadata": {},
   "outputs": [],
   "source": [
    "import pandas as pd\n",
    "import json\n",
    "import seaborn as sns\n",
    "import cleaning_functions as cf\n",
    "from config import matches_list\n",
    "\n",
    "#seaborn configuration:\n",
    "sns.set_context(\"poster\")\n",
    "sns.set(rc={\"figure.figsize\": (12.,6.)})\n",
    "sns.set_style(\"whitegrid\")"
   ]
  },
  {
   "cell_type": "markdown",
   "id": "1b390a21",
   "metadata": {},
   "source": [
    "### Load data: club csv"
   ]
  },
  {
   "cell_type": "code",
   "execution_count": 4,
   "id": "6036a729",
   "metadata": {},
   "outputs": [],
   "source": [
    "clubs=pd.read_csv(\"Data/clubs.csv\")"
   ]
  },
  {
   "cell_type": "code",
   "execution_count": 5,
   "id": "c6342680",
   "metadata": {},
   "outputs": [
    {
     "data": {
      "text/html": [
       "<div>\n",
       "<style scoped>\n",
       "    .dataframe tbody tr th:only-of-type {\n",
       "        vertical-align: middle;\n",
       "    }\n",
       "\n",
       "    .dataframe tbody tr th {\n",
       "        vertical-align: top;\n",
       "    }\n",
       "\n",
       "    .dataframe thead th {\n",
       "        text-align: right;\n",
       "    }\n",
       "</style>\n",
       "<table border=\"1\" class=\"dataframe\">\n",
       "  <thead>\n",
       "    <tr style=\"text-align: right;\">\n",
       "      <th></th>\n",
       "      <th>id</th>\n",
       "      <th>country</th>\n",
       "      <th>name</th>\n",
       "      <th>zone_id</th>\n",
       "      <th>saas</th>\n",
       "      <th>status</th>\n",
       "    </tr>\n",
       "  </thead>\n",
       "  <tbody>\n",
       "    <tr>\n",
       "      <th>0</th>\n",
       "      <td>875d32df-3dea-4cf4</td>\n",
       "      <td>Italy</td>\n",
       "      <td>Padel Elite Top Club</td>\n",
       "      <td>Europe/Rome</td>\n",
       "      <td>ANEMONE</td>\n",
       "      <td>ACTIVE</td>\n",
       "    </tr>\n",
       "    <tr>\n",
       "      <th>1</th>\n",
       "      <td>875d33df-3dea-4df4</td>\n",
       "      <td>Italy</td>\n",
       "      <td>Padel Center</td>\n",
       "      <td>Europe/Rome</td>\n",
       "      <td>ANEMONE</td>\n",
       "      <td>ACTIVE</td>\n",
       "    </tr>\n",
       "    <tr>\n",
       "      <th>2</th>\n",
       "      <td>da7cb23b-43b3-11e8</td>\n",
       "      <td>Spain</td>\n",
       "      <td>Europadel</td>\n",
       "      <td>Europe/Madrid</td>\n",
       "      <td>ANEMONE</td>\n",
       "      <td>ACTIVE</td>\n",
       "    </tr>\n",
       "    <tr>\n",
       "      <th>3</th>\n",
       "      <td>da7cb22b-43b3-11e8</td>\n",
       "      <td>Spain</td>\n",
       "      <td>Centro Padel</td>\n",
       "      <td>Europe/Madrid</td>\n",
       "      <td>ANEMONE</td>\n",
       "      <td>ACTIVE</td>\n",
       "    </tr>\n",
       "    <tr>\n",
       "      <th>4</th>\n",
       "      <td>a328d271-7036-47b4</td>\n",
       "      <td>Denmark</td>\n",
       "      <td>World of Padel</td>\n",
       "      <td>Europe/Copenhagen</td>\n",
       "      <td>ANEMONE</td>\n",
       "      <td>ACTIVE</td>\n",
       "    </tr>\n",
       "    <tr>\n",
       "      <th>5</th>\n",
       "      <td>cc3b6516-7bfc-4504</td>\n",
       "      <td>Denmark</td>\n",
       "      <td>Padel Box</td>\n",
       "      <td>Europe/Copenhagen</td>\n",
       "      <td>ANEMONE</td>\n",
       "      <td>ACTIVE</td>\n",
       "    </tr>\n",
       "    <tr>\n",
       "      <th>6</th>\n",
       "      <td>da79175c-43b3-11e8</td>\n",
       "      <td>Spain</td>\n",
       "      <td>Pádel Madrid</td>\n",
       "      <td>Europe/Madrid</td>\n",
       "      <td>SYLTEKCRM</td>\n",
       "      <td>ACTIVE</td>\n",
       "    </tr>\n",
       "    <tr>\n",
       "      <th>7</th>\n",
       "      <td>da78dd3c-43b3-11e8</td>\n",
       "      <td>Spain</td>\n",
       "      <td>Pádel Club</td>\n",
       "      <td>Europe/Madrid</td>\n",
       "      <td>SYLTEKCRM</td>\n",
       "      <td>ACTIVE</td>\n",
       "    </tr>\n",
       "    <tr>\n",
       "      <th>8</th>\n",
       "      <td>a7cde49f-630d-41eb</td>\n",
       "      <td>España</td>\n",
       "      <td>Pádel Club</td>\n",
       "      <td>Europe/Madrid</td>\n",
       "      <td>SYLTEKCRM</td>\n",
       "      <td>ACTIVE</td>\n",
       "    </tr>\n",
       "    <tr>\n",
       "      <th>9</th>\n",
       "      <td>da76cbee-43b3-11e8</td>\n",
       "      <td>Spain</td>\n",
       "      <td>Padel Indoor</td>\n",
       "      <td>Europe/Madrid</td>\n",
       "      <td>SYLTEKCRM</td>\n",
       "      <td>ACTIVE</td>\n",
       "    </tr>\n",
       "    <tr>\n",
       "      <th>10</th>\n",
       "      <td>98e6583b-0ba1-4f15</td>\n",
       "      <td>Belgium</td>\n",
       "      <td>Pro Padel Point</td>\n",
       "      <td>Europe/Brussels</td>\n",
       "      <td>SYLTEKCRM</td>\n",
       "      <td>ACTIVE</td>\n",
       "    </tr>\n",
       "    <tr>\n",
       "      <th>11</th>\n",
       "      <td>bc8152b7-f04e-450e</td>\n",
       "      <td>Mexico</td>\n",
       "      <td>Club el Padelito</td>\n",
       "      <td>America/Mexico_City</td>\n",
       "      <td>SYLTEKCRM</td>\n",
       "      <td>ACTIVE</td>\n",
       "    </tr>\n",
       "  </tbody>\n",
       "</table>\n",
       "</div>"
      ],
      "text/plain": [
       "                    id  country                  name              zone_id  \\\n",
       "0   875d32df-3dea-4cf4    Italy  Padel Elite Top Club          Europe/Rome   \n",
       "1   875d33df-3dea-4df4    Italy          Padel Center          Europe/Rome   \n",
       "2   da7cb23b-43b3-11e8    Spain             Europadel        Europe/Madrid   \n",
       "3   da7cb22b-43b3-11e8    Spain          Centro Padel        Europe/Madrid   \n",
       "4   a328d271-7036-47b4  Denmark        World of Padel    Europe/Copenhagen   \n",
       "5   cc3b6516-7bfc-4504  Denmark             Padel Box    Europe/Copenhagen   \n",
       "6   da79175c-43b3-11e8    Spain          Pádel Madrid        Europe/Madrid   \n",
       "7   da78dd3c-43b3-11e8    Spain            Pádel Club        Europe/Madrid   \n",
       "8   a7cde49f-630d-41eb   España            Pádel Club        Europe/Madrid   \n",
       "9   da76cbee-43b3-11e8    Spain          Padel Indoor        Europe/Madrid   \n",
       "10  98e6583b-0ba1-4f15  Belgium       Pro Padel Point      Europe/Brussels   \n",
       "11  bc8152b7-f04e-450e   Mexico      Club el Padelito  America/Mexico_City   \n",
       "\n",
       "         saas  status  \n",
       "0     ANEMONE  ACTIVE  \n",
       "1     ANEMONE  ACTIVE  \n",
       "2     ANEMONE  ACTIVE  \n",
       "3     ANEMONE  ACTIVE  \n",
       "4     ANEMONE  ACTIVE  \n",
       "5     ANEMONE  ACTIVE  \n",
       "6   SYLTEKCRM  ACTIVE  \n",
       "7   SYLTEKCRM  ACTIVE  \n",
       "8   SYLTEKCRM  ACTIVE  \n",
       "9   SYLTEKCRM  ACTIVE  \n",
       "10  SYLTEKCRM  ACTIVE  \n",
       "11  SYLTEKCRM  ACTIVE  "
      ]
     },
     "execution_count": 5,
     "metadata": {},
     "output_type": "execute_result"
    }
   ],
   "source": [
    "clubs"
   ]
  },
  {
   "cell_type": "code",
   "execution_count": 6,
   "id": "a1816cf5",
   "metadata": {},
   "outputs": [
    {
     "data": {
      "text/plain": [
       "array(['Italy', 'Spain', 'Denmark', 'España', 'Belgium', 'Mexico'],\n",
       "      dtype=object)"
      ]
     },
     "execution_count": 6,
     "metadata": {},
     "output_type": "execute_result"
    }
   ],
   "source": [
    "clubs.country.unique()"
   ]
  },
  {
   "cell_type": "code",
   "execution_count": 7,
   "id": "46b7039b",
   "metadata": {},
   "outputs": [],
   "source": [
    "clubs=clubs.replace({'España':'Spain'})"
   ]
  },
  {
   "cell_type": "code",
   "execution_count": 11,
   "id": "b69e81fe",
   "metadata": {
    "scrolled": true
   },
   "outputs": [
    {
     "data": {
      "text/plain": [
       "<AxesSubplot:xlabel='country', ylabel='count'>"
      ]
     },
     "execution_count": 11,
     "metadata": {},
     "output_type": "execute_result"
    },
    {
     "data": {
      "image/png": "[encoded data removed]",
      "text/plain": [
       "<Figure size 864x432 with 1 Axes>"
      ]
     },
     "metadata": {},
     "output_type": "display_data"
    }
   ],
   "source": [
    "sns.countplot(x=clubs.country)"
   ]
  },
  {
   "cell_type": "markdown",
   "id": "159d09eb",
   "metadata": {},
   "source": [
    "As we can see in the above graph, Playtomic is present mainly in Spain but also in other countries: Italy, Denmark, Belgium and Mexico."
   ]
  },
  {
   "cell_type": "markdown",
   "id": "158a3993",
   "metadata": {},
   "source": [
    "### Matches json:"
   ]
  },
  {
   "cell_type": "code",
   "execution_count": 3,
   "id": "98b928f2",
   "metadata": {},
   "outputs": [],
   "source": [
    "clubs_info=cf.get_infoclub(matches_list)"
   ]
  },
  {
   "cell_type": "code",
   "execution_count": 4,
   "id": "c7a28ae6",
   "metadata": {},
   "outputs": [
    {
     "data": {
      "text/html": [
       "<div>\n",
       "<style scoped>\n",
       "    .dataframe tbody tr th:only-of-type {\n",
       "        vertical-align: middle;\n",
       "    }\n",
       "\n",
       "    .dataframe tbody tr th {\n",
       "        vertical-align: top;\n",
       "    }\n",
       "\n",
       "    .dataframe thead th {\n",
       "        text-align: right;\n",
       "    }\n",
       "</style>\n",
       "<table border=\"1\" class=\"dataframe\">\n",
       "  <thead>\n",
       "    <tr style=\"text-align: right;\">\n",
       "      <th></th>\n",
       "      <th>club_id</th>\n",
       "      <th>club_name</th>\n",
       "      <th>city</th>\n",
       "      <th>Latitud</th>\n",
       "      <th>Longitud</th>\n",
       "    </tr>\n",
       "  </thead>\n",
       "  <tbody>\n",
       "    <tr>\n",
       "      <th>0</th>\n",
       "      <td>da78dd3c-43b3-11e8</td>\n",
       "      <td>Pádel Club</td>\n",
       "      <td>Madrid</td>\n",
       "      <td>40.499493</td>\n",
       "      <td>-3.713107</td>\n",
       "    </tr>\n",
       "    <tr>\n",
       "      <th>1</th>\n",
       "      <td>da78dd3c-43b3-11e8</td>\n",
       "      <td>Pádel Club</td>\n",
       "      <td>Madrid</td>\n",
       "      <td>40.499493</td>\n",
       "      <td>-3.713107</td>\n",
       "    </tr>\n",
       "    <tr>\n",
       "      <th>2</th>\n",
       "      <td>da78dd3c-43b3-11e8</td>\n",
       "      <td>Pádel Club</td>\n",
       "      <td>Madrid</td>\n",
       "      <td>40.499493</td>\n",
       "      <td>-3.713107</td>\n",
       "    </tr>\n",
       "    <tr>\n",
       "      <th>3</th>\n",
       "      <td>da78dd3c-43b3-11e8</td>\n",
       "      <td>Pádel Club</td>\n",
       "      <td>Madrid</td>\n",
       "      <td>40.499493</td>\n",
       "      <td>-3.713107</td>\n",
       "    </tr>\n",
       "    <tr>\n",
       "      <th>4</th>\n",
       "      <td>da78dd3c-43b3-11e8</td>\n",
       "      <td>Pádel Club</td>\n",
       "      <td>Madrid</td>\n",
       "      <td>40.499493</td>\n",
       "      <td>-3.713107</td>\n",
       "    </tr>\n",
       "  </tbody>\n",
       "</table>\n",
       "</div>"
      ],
      "text/plain": [
       "              club_id   club_name    city    Latitud  Longitud\n",
       "0  da78dd3c-43b3-11e8  Pádel Club  Madrid  40.499493 -3.713107\n",
       "1  da78dd3c-43b3-11e8  Pádel Club  Madrid  40.499493 -3.713107\n",
       "2  da78dd3c-43b3-11e8  Pádel Club  Madrid  40.499493 -3.713107\n",
       "3  da78dd3c-43b3-11e8  Pádel Club  Madrid  40.499493 -3.713107\n",
       "4  da78dd3c-43b3-11e8  Pádel Club  Madrid  40.499493 -3.713107"
      ]
     },
     "execution_count": 4,
     "metadata": {},
     "output_type": "execute_result"
    }
   ],
   "source": [
    "clubs_info.head()"
   ]
  },
  {
   "cell_type": "code",
   "execution_count": 2,
   "id": "cfa3c029",
   "metadata": {},
   "outputs": [],
   "source": [
    "map_clubs=cf.map(matches_list)"
   ]
  },
  {
   "cell_type": "code",
   "execution_count": 3,
   "id": "4b1e4c8c",
   "metadata": {},
   "outputs": [],
   "source": [
    "map_clubs"
   ]
  },
  {
   "cell_type": "code",
   "execution_count": null,
   "id": "a63b6769",
   "metadata": {},
   "outputs": [],
   "source": []
  }
 ],
 "metadata": {
  "kernelspec": {
   "display_name": "ironhack",
   "language": "python",
   "name": "ironhack"
  },
  "language_info": {
   "codemirror_mode": {
    "name": "ipython",
    "version": 3
   },
   "file_extension": ".py",
   "mimetype": "text/x-python",
   "name": "python",
   "nbconvert_exporter": "python",
   "pygments_lexer": "ipython3",
   "version": "3.8.5"
  }
 },
 "nbformat": 4,
 "nbformat_minor": 5
}
