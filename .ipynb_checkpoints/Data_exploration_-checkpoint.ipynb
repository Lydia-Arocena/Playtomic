{
 "cells": [
  {
   "cell_type": "code",
   "execution_count": 10,
   "id": "0993d781",
   "metadata": {},
   "outputs": [],
   "source": [
    "import pandas as pd\n",
    "import json\n",
    "import cleaning_functions as cf\n",
    "from config import matches_list\n",
    "from config import history_list"
   ]
  },
  {
   "cell_type": "markdown",
   "id": "92e1b9a4",
   "metadata": {},
   "source": [
    "# Club csv:"
   ]
  },
  {
   "cell_type": "code",
   "execution_count": 11,
   "id": "d5ab4630",
   "metadata": {},
   "outputs": [],
   "source": [
    "clubs=pd.read_csv(\"Data/clubs.csv\")"
   ]
  },
  {
   "cell_type": "code",
   "execution_count": 12,
   "id": "a020bb3f",
   "metadata": {},
   "outputs": [
    {
     "data": {
      "text/html": [
       "<div>\n",
       "<style scoped>\n",
       "    .dataframe tbody tr th:only-of-type {\n",
       "        vertical-align: middle;\n",
       "    }\n",
       "\n",
       "    .dataframe tbody tr th {\n",
       "        vertical-align: top;\n",
       "    }\n",
       "\n",
       "    .dataframe thead th {\n",
       "        text-align: right;\n",
       "    }\n",
       "</style>\n",
       "<table border=\"1\" class=\"dataframe\">\n",
       "  <thead>\n",
       "    <tr style=\"text-align: right;\">\n",
       "      <th></th>\n",
       "      <th>id</th>\n",
       "      <th>country</th>\n",
       "      <th>name</th>\n",
       "      <th>zone_id</th>\n",
       "      <th>saas</th>\n",
       "      <th>status</th>\n",
       "    </tr>\n",
       "  </thead>\n",
       "  <tbody>\n",
       "    <tr>\n",
       "      <th>0</th>\n",
       "      <td>875d32df-3dea-4cf4</td>\n",
       "      <td>Italy</td>\n",
       "      <td>Padel Elite Top Club</td>\n",
       "      <td>Europe/Rome</td>\n",
       "      <td>ANEMONE</td>\n",
       "      <td>ACTIVE</td>\n",
       "    </tr>\n",
       "    <tr>\n",
       "      <th>1</th>\n",
       "      <td>875d33df-3dea-4df4</td>\n",
       "      <td>Italy</td>\n",
       "      <td>Padel Center</td>\n",
       "      <td>Europe/Rome</td>\n",
       "      <td>ANEMONE</td>\n",
       "      <td>ACTIVE</td>\n",
       "    </tr>\n",
       "    <tr>\n",
       "      <th>2</th>\n",
       "      <td>da7cb23b-43b3-11e8</td>\n",
       "      <td>Spain</td>\n",
       "      <td>Europadel</td>\n",
       "      <td>Europe/Madrid</td>\n",
       "      <td>ANEMONE</td>\n",
       "      <td>ACTIVE</td>\n",
       "    </tr>\n",
       "    <tr>\n",
       "      <th>3</th>\n",
       "      <td>da7cb22b-43b3-11e8</td>\n",
       "      <td>Spain</td>\n",
       "      <td>Centro Padel</td>\n",
       "      <td>Europe/Madrid</td>\n",
       "      <td>ANEMONE</td>\n",
       "      <td>ACTIVE</td>\n",
       "    </tr>\n",
       "    <tr>\n",
       "      <th>4</th>\n",
       "      <td>a328d271-7036-47b4</td>\n",
       "      <td>Denmark</td>\n",
       "      <td>World of Padel</td>\n",
       "      <td>Europe/Copenhagen</td>\n",
       "      <td>ANEMONE</td>\n",
       "      <td>ACTIVE</td>\n",
       "    </tr>\n",
       "    <tr>\n",
       "      <th>5</th>\n",
       "      <td>cc3b6516-7bfc-4504</td>\n",
       "      <td>Denmark</td>\n",
       "      <td>Padel Box</td>\n",
       "      <td>Europe/Copenhagen</td>\n",
       "      <td>ANEMONE</td>\n",
       "      <td>ACTIVE</td>\n",
       "    </tr>\n",
       "    <tr>\n",
       "      <th>6</th>\n",
       "      <td>da79175c-43b3-11e8</td>\n",
       "      <td>Spain</td>\n",
       "      <td>Pádel Madrid</td>\n",
       "      <td>Europe/Madrid</td>\n",
       "      <td>SYLTEKCRM</td>\n",
       "      <td>ACTIVE</td>\n",
       "    </tr>\n",
       "    <tr>\n",
       "      <th>7</th>\n",
       "      <td>da78dd3c-43b3-11e8</td>\n",
       "      <td>Spain</td>\n",
       "      <td>Pádel Club</td>\n",
       "      <td>Europe/Madrid</td>\n",
       "      <td>SYLTEKCRM</td>\n",
       "      <td>ACTIVE</td>\n",
       "    </tr>\n",
       "    <tr>\n",
       "      <th>8</th>\n",
       "      <td>a7cde49f-630d-41eb</td>\n",
       "      <td>España</td>\n",
       "      <td>Pádel Club</td>\n",
       "      <td>Europe/Madrid</td>\n",
       "      <td>SYLTEKCRM</td>\n",
       "      <td>ACTIVE</td>\n",
       "    </tr>\n",
       "    <tr>\n",
       "      <th>9</th>\n",
       "      <td>da76cbee-43b3-11e8</td>\n",
       "      <td>Spain</td>\n",
       "      <td>Padel Indoor</td>\n",
       "      <td>Europe/Madrid</td>\n",
       "      <td>SYLTEKCRM</td>\n",
       "      <td>ACTIVE</td>\n",
       "    </tr>\n",
       "    <tr>\n",
       "      <th>10</th>\n",
       "      <td>98e6583b-0ba1-4f15</td>\n",
       "      <td>Belgium</td>\n",
       "      <td>Pro Padel Point</td>\n",
       "      <td>Europe/Brussels</td>\n",
       "      <td>SYLTEKCRM</td>\n",
       "      <td>ACTIVE</td>\n",
       "    </tr>\n",
       "    <tr>\n",
       "      <th>11</th>\n",
       "      <td>bc8152b7-f04e-450e</td>\n",
       "      <td>Mexico</td>\n",
       "      <td>Club el Padelito</td>\n",
       "      <td>America/Mexico_City</td>\n",
       "      <td>SYLTEKCRM</td>\n",
       "      <td>ACTIVE</td>\n",
       "    </tr>\n",
       "  </tbody>\n",
       "</table>\n",
       "</div>"
      ],
      "text/plain": [
       "                    id  country                  name              zone_id  \\\n",
       "0   875d32df-3dea-4cf4    Italy  Padel Elite Top Club          Europe/Rome   \n",
       "1   875d33df-3dea-4df4    Italy          Padel Center          Europe/Rome   \n",
       "2   da7cb23b-43b3-11e8    Spain             Europadel        Europe/Madrid   \n",
       "3   da7cb22b-43b3-11e8    Spain          Centro Padel        Europe/Madrid   \n",
       "4   a328d271-7036-47b4  Denmark        World of Padel    Europe/Copenhagen   \n",
       "5   cc3b6516-7bfc-4504  Denmark             Padel Box    Europe/Copenhagen   \n",
       "6   da79175c-43b3-11e8    Spain          Pádel Madrid        Europe/Madrid   \n",
       "7   da78dd3c-43b3-11e8    Spain            Pádel Club        Europe/Madrid   \n",
       "8   a7cde49f-630d-41eb   España            Pádel Club        Europe/Madrid   \n",
       "9   da76cbee-43b3-11e8    Spain          Padel Indoor        Europe/Madrid   \n",
       "10  98e6583b-0ba1-4f15  Belgium       Pro Padel Point      Europe/Brussels   \n",
       "11  bc8152b7-f04e-450e   Mexico      Club el Padelito  America/Mexico_City   \n",
       "\n",
       "         saas  status  \n",
       "0     ANEMONE  ACTIVE  \n",
       "1     ANEMONE  ACTIVE  \n",
       "2     ANEMONE  ACTIVE  \n",
       "3     ANEMONE  ACTIVE  \n",
       "4     ANEMONE  ACTIVE  \n",
       "5     ANEMONE  ACTIVE  \n",
       "6   SYLTEKCRM  ACTIVE  \n",
       "7   SYLTEKCRM  ACTIVE  \n",
       "8   SYLTEKCRM  ACTIVE  \n",
       "9   SYLTEKCRM  ACTIVE  \n",
       "10  SYLTEKCRM  ACTIVE  \n",
       "11  SYLTEKCRM  ACTIVE  "
      ]
     },
     "execution_count": 12,
     "metadata": {},
     "output_type": "execute_result"
    }
   ],
   "source": [
    "clubs"
   ]
  },
  {
   "cell_type": "code",
   "execution_count": 13,
   "id": "904050e8",
   "metadata": {},
   "outputs": [
    {
     "data": {
      "text/plain": [
       "array(['Italy', 'Spain', 'Denmark', 'España', 'Belgium', 'Mexico'],\n",
       "      dtype=object)"
      ]
     },
     "execution_count": 13,
     "metadata": {},
     "output_type": "execute_result"
    }
   ],
   "source": [
    "clubs.country.unique()"
   ]
  },
  {
   "cell_type": "code",
   "execution_count": 14,
   "id": "e32f6b7c",
   "metadata": {},
   "outputs": [],
   "source": [
    "clubs=clubs.replace({\"España\":\"Spain\"})"
   ]
  },
  {
   "cell_type": "code",
   "execution_count": 15,
   "id": "ec87b166",
   "metadata": {},
   "outputs": [
    {
     "data": {
      "text/plain": [
       "array(['Italy', 'Spain', 'Denmark', 'Belgium', 'Mexico'], dtype=object)"
      ]
     },
     "execution_count": 15,
     "metadata": {},
     "output_type": "execute_result"
    }
   ],
   "source": [
    "clubs.country.unique()"
   ]
  },
  {
   "cell_type": "markdown",
   "id": "bf7ddf9d",
   "metadata": {},
   "source": [
    "# Matches json:"
   ]
  },
  {
   "cell_type": "code",
   "execution_count": 16,
   "id": "a7585f67",
   "metadata": {},
   "outputs": [],
   "source": [
    "matches=pd.DataFrame(matches_list)"
   ]
  },
  {
   "cell_type": "code",
   "execution_count": 17,
   "id": "a070a784",
   "metadata": {},
   "outputs": [
    {
     "data": {
      "text/html": [
       "<div>\n",
       "<style scoped>\n",
       "    .dataframe tbody tr th:only-of-type {\n",
       "        vertical-align: middle;\n",
       "    }\n",
       "\n",
       "    .dataframe tbody tr th {\n",
       "        vertical-align: top;\n",
       "    }\n",
       "\n",
       "    .dataframe thead th {\n",
       "        text-align: right;\n",
       "    }\n",
       "</style>\n",
       "<table border=\"1\" class=\"dataframe\">\n",
       "  <thead>\n",
       "    <tr style=\"text-align: right;\">\n",
       "      <th></th>\n",
       "      <th>_id</th>\n",
       "      <th>is_canceled</th>\n",
       "      <th>created_at</th>\n",
       "      <th>start_date</th>\n",
       "      <th>end_date</th>\n",
       "      <th>owner_id</th>\n",
       "      <th>sport_id</th>\n",
       "      <th>club_info</th>\n",
       "      <th>registered_users</th>\n",
       "    </tr>\n",
       "  </thead>\n",
       "  <tbody>\n",
       "    <tr>\n",
       "      <th>0</th>\n",
       "      <td>a57512cb-72da-4136</td>\n",
       "      <td>False</td>\n",
       "      <td>2021-12-30 12:20:02.793 UTC</td>\n",
       "      <td>2021-12-30 13:00:00 UTC</td>\n",
       "      <td>2021-12-30 13:30:00 UTC</td>\n",
       "      <td>AICKMMP</td>\n",
       "      <td>TENNIS</td>\n",
       "      <td>[{'club_id': 'da78dd3c-43b3-11e8', 'club_name'...</td>\n",
       "      <td>[{'user_id': 'AICKMMP', 'registration_date': '...</td>\n",
       "    </tr>\n",
       "    <tr>\n",
       "      <th>1</th>\n",
       "      <td>644817a3-6bc2-4e34</td>\n",
       "      <td>False</td>\n",
       "      <td>2021-11-07 19:14:45.37 UTC</td>\n",
       "      <td>2021-11-07 18:30:00 UTC</td>\n",
       "      <td>2021-11-07 19:00:00 UTC</td>\n",
       "      <td>AKPKMI</td>\n",
       "      <td>TENNIS</td>\n",
       "      <td>[{'club_id': 'da78dd3c-43b3-11e8', 'club_name'...</td>\n",
       "      <td>[{'user_id': 'AKPKMI', 'registration_date': '2...</td>\n",
       "    </tr>\n",
       "    <tr>\n",
       "      <th>2</th>\n",
       "      <td>cae7df5b-c7c6-4254</td>\n",
       "      <td>False</td>\n",
       "      <td>2021-10-31 13:21:11.241 UTC</td>\n",
       "      <td>2021-11-01 12:00:00 UTC</td>\n",
       "      <td>2021-11-01 12:30:00 UTC</td>\n",
       "      <td>CPAPMM</td>\n",
       "      <td>PADEL</td>\n",
       "      <td>[{'club_id': 'da78dd3c-43b3-11e8', 'club_name'...</td>\n",
       "      <td>[{'user_id': 'CPAPMM', 'registration_date': '2...</td>\n",
       "    </tr>\n",
       "    <tr>\n",
       "      <th>3</th>\n",
       "      <td>93a9a542-a91a-4342</td>\n",
       "      <td>True</td>\n",
       "      <td>2021-10-07 17:37:23.694 UTC</td>\n",
       "      <td>2021-10-11 08:00:00 UTC</td>\n",
       "      <td>2021-10-11 09:30:00 UTC</td>\n",
       "      <td>IKMPK</td>\n",
       "      <td>PADEL</td>\n",
       "      <td>[{'club_id': 'da78dd3c-43b3-11e8', 'club_name'...</td>\n",
       "      <td>[{'user_id': 'IKMPK', 'registration_date': '20...</td>\n",
       "    </tr>\n",
       "    <tr>\n",
       "      <th>4</th>\n",
       "      <td>42680533-6e5d-43e6</td>\n",
       "      <td>False</td>\n",
       "      <td>2021-10-02 09:06:17.116 UTC</td>\n",
       "      <td>2021-10-09 09:00:00 UTC</td>\n",
       "      <td>2021-10-09 10:00:00 UTC</td>\n",
       "      <td>ACPAIME</td>\n",
       "      <td>TENNIS</td>\n",
       "      <td>[{'club_id': 'da78dd3c-43b3-11e8', 'club_name'...</td>\n",
       "      <td>[{'user_id': 'ACPAIME', 'registration_date': '...</td>\n",
       "    </tr>\n",
       "  </tbody>\n",
       "</table>\n",
       "</div>"
      ],
      "text/plain": [
       "                  _id  is_canceled                   created_at  \\\n",
       "0  a57512cb-72da-4136        False  2021-12-30 12:20:02.793 UTC   \n",
       "1  644817a3-6bc2-4e34        False   2021-11-07 19:14:45.37 UTC   \n",
       "2  cae7df5b-c7c6-4254        False  2021-10-31 13:21:11.241 UTC   \n",
       "3  93a9a542-a91a-4342         True  2021-10-07 17:37:23.694 UTC   \n",
       "4  42680533-6e5d-43e6        False  2021-10-02 09:06:17.116 UTC   \n",
       "\n",
       "                start_date                 end_date owner_id sport_id  \\\n",
       "0  2021-12-30 13:00:00 UTC  2021-12-30 13:30:00 UTC  AICKMMP   TENNIS   \n",
       "1  2021-11-07 18:30:00 UTC  2021-11-07 19:00:00 UTC   AKPKMI   TENNIS   \n",
       "2  2021-11-01 12:00:00 UTC  2021-11-01 12:30:00 UTC   CPAPMM    PADEL   \n",
       "3  2021-10-11 08:00:00 UTC  2021-10-11 09:30:00 UTC    IKMPK    PADEL   \n",
       "4  2021-10-09 09:00:00 UTC  2021-10-09 10:00:00 UTC  ACPAIME   TENNIS   \n",
       "\n",
       "                                           club_info  \\\n",
       "0  [{'club_id': 'da78dd3c-43b3-11e8', 'club_name'...   \n",
       "1  [{'club_id': 'da78dd3c-43b3-11e8', 'club_name'...   \n",
       "2  [{'club_id': 'da78dd3c-43b3-11e8', 'club_name'...   \n",
       "3  [{'club_id': 'da78dd3c-43b3-11e8', 'club_name'...   \n",
       "4  [{'club_id': 'da78dd3c-43b3-11e8', 'club_name'...   \n",
       "\n",
       "                                    registered_users  \n",
       "0  [{'user_id': 'AICKMMP', 'registration_date': '...  \n",
       "1  [{'user_id': 'AKPKMI', 'registration_date': '2...  \n",
       "2  [{'user_id': 'CPAPMM', 'registration_date': '2...  \n",
       "3  [{'user_id': 'IKMPK', 'registration_date': '20...  \n",
       "4  [{'user_id': 'ACPAIME', 'registration_date': '...  "
      ]
     },
     "execution_count": 17,
     "metadata": {},
     "output_type": "execute_result"
    }
   ],
   "source": [
    "matches.head()"
   ]
  },
  {
   "cell_type": "code",
   "execution_count": 18,
   "id": "91f2aca9",
   "metadata": {},
   "outputs": [],
   "source": [
    "matches=matches.drop([\"club_info\", \"registered_users\"], axis=1)"
   ]
  },
  {
   "cell_type": "code",
   "execution_count": 19,
   "id": "03665836",
   "metadata": {},
   "outputs": [
    {
     "data": {
      "text/html": [
       "<div>\n",
       "<style scoped>\n",
       "    .dataframe tbody tr th:only-of-type {\n",
       "        vertical-align: middle;\n",
       "    }\n",
       "\n",
       "    .dataframe tbody tr th {\n",
       "        vertical-align: top;\n",
       "    }\n",
       "\n",
       "    .dataframe thead th {\n",
       "        text-align: right;\n",
       "    }\n",
       "</style>\n",
       "<table border=\"1\" class=\"dataframe\">\n",
       "  <thead>\n",
       "    <tr style=\"text-align: right;\">\n",
       "      <th></th>\n",
       "      <th>_id</th>\n",
       "      <th>is_canceled</th>\n",
       "      <th>created_at</th>\n",
       "      <th>start_date</th>\n",
       "      <th>end_date</th>\n",
       "      <th>owner_id</th>\n",
       "      <th>sport_id</th>\n",
       "    </tr>\n",
       "  </thead>\n",
       "  <tbody>\n",
       "    <tr>\n",
       "      <th>0</th>\n",
       "      <td>a57512cb-72da-4136</td>\n",
       "      <td>False</td>\n",
       "      <td>2021-12-30 12:20:02.793 UTC</td>\n",
       "      <td>2021-12-30 13:00:00 UTC</td>\n",
       "      <td>2021-12-30 13:30:00 UTC</td>\n",
       "      <td>AICKMMP</td>\n",
       "      <td>TENNIS</td>\n",
       "    </tr>\n",
       "    <tr>\n",
       "      <th>1</th>\n",
       "      <td>644817a3-6bc2-4e34</td>\n",
       "      <td>False</td>\n",
       "      <td>2021-11-07 19:14:45.37 UTC</td>\n",
       "      <td>2021-11-07 18:30:00 UTC</td>\n",
       "      <td>2021-11-07 19:00:00 UTC</td>\n",
       "      <td>AKPKMI</td>\n",
       "      <td>TENNIS</td>\n",
       "    </tr>\n",
       "    <tr>\n",
       "      <th>2</th>\n",
       "      <td>cae7df5b-c7c6-4254</td>\n",
       "      <td>False</td>\n",
       "      <td>2021-10-31 13:21:11.241 UTC</td>\n",
       "      <td>2021-11-01 12:00:00 UTC</td>\n",
       "      <td>2021-11-01 12:30:00 UTC</td>\n",
       "      <td>CPAPMM</td>\n",
       "      <td>PADEL</td>\n",
       "    </tr>\n",
       "    <tr>\n",
       "      <th>3</th>\n",
       "      <td>93a9a542-a91a-4342</td>\n",
       "      <td>True</td>\n",
       "      <td>2021-10-07 17:37:23.694 UTC</td>\n",
       "      <td>2021-10-11 08:00:00 UTC</td>\n",
       "      <td>2021-10-11 09:30:00 UTC</td>\n",
       "      <td>IKMPK</td>\n",
       "      <td>PADEL</td>\n",
       "    </tr>\n",
       "    <tr>\n",
       "      <th>4</th>\n",
       "      <td>42680533-6e5d-43e6</td>\n",
       "      <td>False</td>\n",
       "      <td>2021-10-02 09:06:17.116 UTC</td>\n",
       "      <td>2021-10-09 09:00:00 UTC</td>\n",
       "      <td>2021-10-09 10:00:00 UTC</td>\n",
       "      <td>ACPAIME</td>\n",
       "      <td>TENNIS</td>\n",
       "    </tr>\n",
       "  </tbody>\n",
       "</table>\n",
       "</div>"
      ],
      "text/plain": [
       "                  _id  is_canceled                   created_at  \\\n",
       "0  a57512cb-72da-4136        False  2021-12-30 12:20:02.793 UTC   \n",
       "1  644817a3-6bc2-4e34        False   2021-11-07 19:14:45.37 UTC   \n",
       "2  cae7df5b-c7c6-4254        False  2021-10-31 13:21:11.241 UTC   \n",
       "3  93a9a542-a91a-4342         True  2021-10-07 17:37:23.694 UTC   \n",
       "4  42680533-6e5d-43e6        False  2021-10-02 09:06:17.116 UTC   \n",
       "\n",
       "                start_date                 end_date owner_id sport_id  \n",
       "0  2021-12-30 13:00:00 UTC  2021-12-30 13:30:00 UTC  AICKMMP   TENNIS  \n",
       "1  2021-11-07 18:30:00 UTC  2021-11-07 19:00:00 UTC   AKPKMI   TENNIS  \n",
       "2  2021-11-01 12:00:00 UTC  2021-11-01 12:30:00 UTC   CPAPMM    PADEL  \n",
       "3  2021-10-11 08:00:00 UTC  2021-10-11 09:30:00 UTC    IKMPK    PADEL  \n",
       "4  2021-10-09 09:00:00 UTC  2021-10-09 10:00:00 UTC  ACPAIME   TENNIS  "
      ]
     },
     "execution_count": 19,
     "metadata": {},
     "output_type": "execute_result"
    }
   ],
   "source": [
    "matches.head()"
   ]
  },
  {
   "cell_type": "markdown",
   "id": "80e832b7",
   "metadata": {},
   "source": [
    "#### Users:"
   ]
  },
  {
   "cell_type": "code",
   "execution_count": 20,
   "id": "f288d5ca",
   "metadata": {},
   "outputs": [],
   "source": [
    "users=cf.get_users(matches_list)"
   ]
  },
  {
   "cell_type": "code",
   "execution_count": 21,
   "id": "c907eeb5",
   "metadata": {},
   "outputs": [
    {
     "data": {
      "text/html": [
       "<div>\n",
       "<style scoped>\n",
       "    .dataframe tbody tr th:only-of-type {\n",
       "        vertical-align: middle;\n",
       "    }\n",
       "\n",
       "    .dataframe tbody tr th {\n",
       "        vertical-align: top;\n",
       "    }\n",
       "\n",
       "    .dataframe thead th {\n",
       "        text-align: right;\n",
       "    }\n",
       "</style>\n",
       "<table border=\"1\" class=\"dataframe\">\n",
       "  <thead>\n",
       "    <tr style=\"text-align: right;\">\n",
       "      <th></th>\n",
       "      <th>user_id</th>\n",
       "      <th>registration_date</th>\n",
       "      <th>price</th>\n",
       "      <th>currency</th>\n",
       "    </tr>\n",
       "  </thead>\n",
       "  <tbody>\n",
       "    <tr>\n",
       "      <th>0</th>\n",
       "      <td>AICKMMP</td>\n",
       "      <td>2021-12-30 12:21:02.793 UTC</td>\n",
       "      <td>6.25</td>\n",
       "      <td>EUR</td>\n",
       "    </tr>\n",
       "    <tr>\n",
       "      <th>1</th>\n",
       "      <td>AKPKMI</td>\n",
       "      <td>2021-11-07 19:15:45.37 UTC</td>\n",
       "      <td>7.25</td>\n",
       "      <td>EUR</td>\n",
       "    </tr>\n",
       "    <tr>\n",
       "      <th>2</th>\n",
       "      <td>CPAPMM</td>\n",
       "      <td>2021-10-31 13:22:11.241 UTC</td>\n",
       "      <td>7.75</td>\n",
       "      <td>EUR</td>\n",
       "    </tr>\n",
       "    <tr>\n",
       "      <th>3</th>\n",
       "      <td>IKMPK</td>\n",
       "      <td>2021-10-07 17:38:23.694 UTC</td>\n",
       "      <td>10.50</td>\n",
       "      <td>EUR</td>\n",
       "    </tr>\n",
       "    <tr>\n",
       "      <th>4</th>\n",
       "      <td>ACPAIME</td>\n",
       "      <td>2021-10-02 09:07:17.116 UTC</td>\n",
       "      <td>12.50</td>\n",
       "      <td>EUR</td>\n",
       "    </tr>\n",
       "  </tbody>\n",
       "</table>\n",
       "</div>"
      ],
      "text/plain": [
       "   user_id            registration_date  price currency\n",
       "0  AICKMMP  2021-12-30 12:21:02.793 UTC   6.25      EUR\n",
       "1   AKPKMI   2021-11-07 19:15:45.37 UTC   7.25      EUR\n",
       "2   CPAPMM  2021-10-31 13:22:11.241 UTC   7.75      EUR\n",
       "3    IKMPK  2021-10-07 17:38:23.694 UTC  10.50      EUR\n",
       "4  ACPAIME  2021-10-02 09:07:17.116 UTC  12.50      EUR"
      ]
     },
     "execution_count": 21,
     "metadata": {},
     "output_type": "execute_result"
    }
   ],
   "source": [
    "users.head()"
   ]
  },
  {
   "cell_type": "markdown",
   "id": "d8d7fb59",
   "metadata": {},
   "source": [
    "#### Clubs:"
   ]
  },
  {
   "cell_type": "code",
   "execution_count": 22,
   "id": "e27114a4",
   "metadata": {},
   "outputs": [],
   "source": [
    "clubs_info=cf.get_infoclub(matches_list)"
   ]
  },
  {
   "cell_type": "code",
   "execution_count": 23,
   "id": "d4de970d",
   "metadata": {},
   "outputs": [
    {
     "data": {
      "text/html": [
       "<div>\n",
       "<style scoped>\n",
       "    .dataframe tbody tr th:only-of-type {\n",
       "        vertical-align: middle;\n",
       "    }\n",
       "\n",
       "    .dataframe tbody tr th {\n",
       "        vertical-align: top;\n",
       "    }\n",
       "\n",
       "    .dataframe thead th {\n",
       "        text-align: right;\n",
       "    }\n",
       "</style>\n",
       "<table border=\"1\" class=\"dataframe\">\n",
       "  <thead>\n",
       "    <tr style=\"text-align: right;\">\n",
       "      <th></th>\n",
       "      <th>club_id</th>\n",
       "      <th>club_name</th>\n",
       "      <th>city</th>\n",
       "      <th>Latitud</th>\n",
       "      <th>Longitud</th>\n",
       "    </tr>\n",
       "  </thead>\n",
       "  <tbody>\n",
       "    <tr>\n",
       "      <th>0</th>\n",
       "      <td>da78dd3c-43b3-11e8</td>\n",
       "      <td>Pádel Club</td>\n",
       "      <td>Madrid</td>\n",
       "      <td>40.499493</td>\n",
       "      <td>-3.713107</td>\n",
       "    </tr>\n",
       "    <tr>\n",
       "      <th>1</th>\n",
       "      <td>da78dd3c-43b3-11e8</td>\n",
       "      <td>Pádel Club</td>\n",
       "      <td>Madrid</td>\n",
       "      <td>40.499493</td>\n",
       "      <td>-3.713107</td>\n",
       "    </tr>\n",
       "    <tr>\n",
       "      <th>2</th>\n",
       "      <td>da78dd3c-43b3-11e8</td>\n",
       "      <td>Pádel Club</td>\n",
       "      <td>Madrid</td>\n",
       "      <td>40.499493</td>\n",
       "      <td>-3.713107</td>\n",
       "    </tr>\n",
       "    <tr>\n",
       "      <th>3</th>\n",
       "      <td>da78dd3c-43b3-11e8</td>\n",
       "      <td>Pádel Club</td>\n",
       "      <td>Madrid</td>\n",
       "      <td>40.499493</td>\n",
       "      <td>-3.713107</td>\n",
       "    </tr>\n",
       "    <tr>\n",
       "      <th>4</th>\n",
       "      <td>da78dd3c-43b3-11e8</td>\n",
       "      <td>Pádel Club</td>\n",
       "      <td>Madrid</td>\n",
       "      <td>40.499493</td>\n",
       "      <td>-3.713107</td>\n",
       "    </tr>\n",
       "  </tbody>\n",
       "</table>\n",
       "</div>"
      ],
      "text/plain": [
       "              club_id   club_name    city    Latitud  Longitud\n",
       "0  da78dd3c-43b3-11e8  Pádel Club  Madrid  40.499493 -3.713107\n",
       "1  da78dd3c-43b3-11e8  Pádel Club  Madrid  40.499493 -3.713107\n",
       "2  da78dd3c-43b3-11e8  Pádel Club  Madrid  40.499493 -3.713107\n",
       "3  da78dd3c-43b3-11e8  Pádel Club  Madrid  40.499493 -3.713107\n",
       "4  da78dd3c-43b3-11e8  Pádel Club  Madrid  40.499493 -3.713107"
      ]
     },
     "execution_count": 23,
     "metadata": {},
     "output_type": "execute_result"
    }
   ],
   "source": [
    "clubs_info.head()"
   ]
  },
  {
   "cell_type": "code",
   "execution_count": 24,
   "id": "1807bc90",
   "metadata": {},
   "outputs": [],
   "source": [
    "mapa=cf.map(matches_list)"
   ]
  },
  {
   "cell_type": "code",
   "execution_count": 25,
   "id": "ab69c374",
   "metadata": {},
   "outputs": [
    {
     "data": {
      "text/html": [
       "<div style=\"width:100%;\"><div style=\"position:relative;width:100%;height:0;padding-bottom:60%;\"><span style=\"color:#565656\">Make this Notebook Trusted to load map: File -> Trust Notebook</span><iframe src=\"about:blank\" style=\"position:absolute;width:100%;height:100%;left:0;top:0;border:none !important;\" data-html=%3C%21DOCTYPE%20html%3E%0A%3Chead%3E%20%20%20%20%0A%20%20%20%20%3Cmeta%20http-equiv%3D%22content-type%22%20content%3D%22text/html%3B%20charset%3DUTF-8%22%20/%3E%0A%20%20%20%20%0A%20%20%20%20%20%20%20%20%3Cscript%3E%0A%20%20%20%20%20%20%20%20%20%20%20%20L_NO_TOUCH%20%3D%20false%3B%0A%20%20%20%20%20%20%20%20%20%20%20%20L_DISABLE_3D%20%3D%20false%3B%0A%20%20%20%20%20%20%20%20%3C/script%3E%0A%20%20%20%20%0A%20%20%20%20%3Cstyle%3Ehtml%2C%20body%20%7Bwidth%3A%20100%25%3Bheight%3A%20100%25%3Bmargin%3A%200%3Bpadding%3A%200%3B%7D%3C/style%3E%0A%20%20%20%20%3Cstyle%3E%23map%20%7Bposition%3Aabsolute%3Btop%3A0%3Bbottom%3A0%3Bright%3A0%3Bleft%3A0%3B%7D%3C/style%3E%0A%20%20%20%20%3Cscript%20src%3D%22https%3A//cdn.jsdelivr.net/npm/leaflet%401.6.0/dist/leaflet.js%22%3E%3C/script%3E%0A%20%20%20%20%3Cscript%20src%3D%22https%3A//code.jquery.com/jquery-1.12.4.min.js%22%3E%3C/script%3E%0A%20%20%20%20%3Cscript%20src%3D%22https%3A//maxcdn.bootstrapcdn.com/bootstrap/3.2.0/js/bootstrap.min.js%22%3E%3C/script%3E%0A%20%20%20%20%3Cscript%20src%3D%22https%3A//cdnjs.cloudflare.com/ajax/libs/Leaflet.awesome-markers/2.0.2/leaflet.awesome-markers.js%22%3E%3C/script%3E%0A%20%20%20%20%3Clink%20rel%3D%22stylesheet%22%20href%3D%22https%3A//cdn.jsdelivr.net/npm/leaflet%401.6.0/dist/leaflet.css%22/%3E%0A%20%20%20%20%3Clink%20rel%3D%22stylesheet%22%20href%3D%22https%3A//maxcdn.bootstrapcdn.com/bootstrap/3.2.0/css/bootstrap.min.css%22/%3E%0A%20%20%20%20%3Clink%20rel%3D%22stylesheet%22%20href%3D%22https%3A//maxcdn.bootstrapcdn.com/bootstrap/3.2.0/css/bootstrap-theme.min.css%22/%3E%0A%20%20%20%20%3Clink%20rel%3D%22stylesheet%22%20href%3D%22https%3A//maxcdn.bootstrapcdn.com/font-awesome/4.6.3/css/font-awesome.min.css%22/%3E%0A%20%20%20%20%3Clink%20rel%3D%22stylesheet%22%20href%3D%22https%3A//cdnjs.cloudflare.com/ajax/libs/Leaflet.awesome-markers/2.0.2/leaflet.awesome-markers.css%22/%3E%0A%20%20%20%20%3Clink%20rel%3D%22stylesheet%22%20href%3D%22https%3A//cdn.jsdelivr.net/gh/python-visualization/folium/folium/templates/leaflet.awesome.rotate.min.css%22/%3E%0A%20%20%20%20%0A%20%20%20%20%20%20%20%20%20%20%20%20%3Cmeta%20name%3D%22viewport%22%20content%3D%22width%3Ddevice-width%2C%0A%20%20%20%20%20%20%20%20%20%20%20%20%20%20%20%20initial-scale%3D1.0%2C%20maximum-scale%3D1.0%2C%20user-scalable%3Dno%22%20/%3E%0A%20%20%20%20%20%20%20%20%20%20%20%20%3Cstyle%3E%0A%20%20%20%20%20%20%20%20%20%20%20%20%20%20%20%20%23map_b915d61ca0c94011a8e9d7d4276e6540%20%7B%0A%20%20%20%20%20%20%20%20%20%20%20%20%20%20%20%20%20%20%20%20position%3A%20relative%3B%0A%20%20%20%20%20%20%20%20%20%20%20%20%20%20%20%20%20%20%20%20width%3A%20100.0%25%3B%0A%20%20%20%20%20%20%20%20%20%20%20%20%20%20%20%20%20%20%20%20height%3A%20100.0%25%3B%0A%20%20%20%20%20%20%20%20%20%20%20%20%20%20%20%20%20%20%20%20left%3A%200.0%25%3B%0A%20%20%20%20%20%20%20%20%20%20%20%20%20%20%20%20%20%20%20%20top%3A%200.0%25%3B%0A%20%20%20%20%20%20%20%20%20%20%20%20%20%20%20%20%7D%0A%20%20%20%20%20%20%20%20%20%20%20%20%3C/style%3E%0A%20%20%20%20%20%20%20%20%0A%3C/head%3E%0A%3Cbody%3E%20%20%20%20%0A%20%20%20%20%0A%20%20%20%20%20%20%20%20%20%20%20%20%3Cdiv%20class%3D%22folium-map%22%20id%3D%22map_b915d61ca0c94011a8e9d7d4276e6540%22%20%3E%3C/div%3E%0A%20%20%20%20%20%20%20%20%0A%3C/body%3E%0A%3Cscript%3E%20%20%20%20%0A%20%20%20%20%0A%20%20%20%20%20%20%20%20%20%20%20%20var%20map_b915d61ca0c94011a8e9d7d4276e6540%20%3D%20L.map%28%0A%20%20%20%20%20%20%20%20%20%20%20%20%20%20%20%20%22map_b915d61ca0c94011a8e9d7d4276e6540%22%2C%0A%20%20%20%20%20%20%20%20%20%20%20%20%20%20%20%20%7B%0A%20%20%20%20%20%20%20%20%20%20%20%20%20%20%20%20%20%20%20%20center%3A%20%5B40.4994927%2C%20-3.7131068%5D%2C%0A%20%20%20%20%20%20%20%20%20%20%20%20%20%20%20%20%20%20%20%20crs%3A%20L.CRS.EPSG3857%2C%0A%20%20%20%20%20%20%20%20%20%20%20%20%20%20%20%20%20%20%20%20zoom%3A%202%2C%0A%20%20%20%20%20%20%20%20%20%20%20%20%20%20%20%20%20%20%20%20zoomControl%3A%20true%2C%0A%20%20%20%20%20%20%20%20%20%20%20%20%20%20%20%20%20%20%20%20preferCanvas%3A%20false%2C%0A%20%20%20%20%20%20%20%20%20%20%20%20%20%20%20%20%7D%0A%20%20%20%20%20%20%20%20%20%20%20%20%29%3B%0A%0A%20%20%20%20%20%20%20%20%20%20%20%20%0A%0A%20%20%20%20%20%20%20%20%0A%20%20%20%20%0A%20%20%20%20%20%20%20%20%20%20%20%20var%20tile_layer_55360241c78d417fbf1862ca508388df%20%3D%20L.tileLayer%28%0A%20%20%20%20%20%20%20%20%20%20%20%20%20%20%20%20%22https%3A//%7Bs%7D.tile.openstreetmap.org/%7Bz%7D/%7Bx%7D/%7By%7D.png%22%2C%0A%20%20%20%20%20%20%20%20%20%20%20%20%20%20%20%20%7B%22attribution%22%3A%20%22Data%20by%20%5Cu0026copy%3B%20%5Cu003ca%20href%3D%5C%22http%3A//openstreetmap.org%5C%22%5Cu003eOpenStreetMap%5Cu003c/a%5Cu003e%2C%20under%20%5Cu003ca%20href%3D%5C%22http%3A//www.openstreetmap.org/copyright%5C%22%5Cu003eODbL%5Cu003c/a%5Cu003e.%22%2C%20%22detectRetina%22%3A%20false%2C%20%22maxNativeZoom%22%3A%2018%2C%20%22maxZoom%22%3A%2018%2C%20%22minZoom%22%3A%200%2C%20%22noWrap%22%3A%20false%2C%20%22opacity%22%3A%201%2C%20%22subdomains%22%3A%20%22abc%22%2C%20%22tms%22%3A%20false%7D%0A%20%20%20%20%20%20%20%20%20%20%20%20%29.addTo%28map_b915d61ca0c94011a8e9d7d4276e6540%29%3B%0A%20%20%20%20%20%20%20%20%0A%20%20%20%20%0A%20%20%20%20%20%20%20%20%20%20%20%20var%20marker_e44c1bec63e447ac8d8416f51017911f%20%3D%20L.marker%28%0A%20%20%20%20%20%20%20%20%20%20%20%20%20%20%20%20%5B40.4994927%2C%20-3.7131068%5D%2C%0A%20%20%20%20%20%20%20%20%20%20%20%20%20%20%20%20%7B%7D%0A%20%20%20%20%20%20%20%20%20%20%20%20%29.addTo%28map_b915d61ca0c94011a8e9d7d4276e6540%29%3B%0A%20%20%20%20%20%20%20%20%0A%20%20%20%20%0A%20%20%20%20%20%20%20%20%20%20%20%20var%20icon_b8d964c16ccc4805bdd347d15e81cdc0%20%3D%20L.AwesomeMarkers.icon%28%0A%20%20%20%20%20%20%20%20%20%20%20%20%20%20%20%20%7B%22extraClasses%22%3A%20%22fa-rotate-0%22%2C%20%22icon%22%3A%20%22star%22%2C%20%22iconColor%22%3A%20%22black%22%2C%20%22markerColor%22%3A%20%22green%22%2C%20%22prefix%22%3A%20%22fa%22%7D%0A%20%20%20%20%20%20%20%20%20%20%20%20%29%3B%0A%20%20%20%20%20%20%20%20%20%20%20%20marker_e44c1bec63e447ac8d8416f51017911f.setIcon%28icon_b8d964c16ccc4805bdd347d15e81cdc0%29%3B%0A%20%20%20%20%20%20%20%20%0A%20%20%20%20%0A%20%20%20%20%20%20%20%20%20%20%20%20marker_e44c1bec63e447ac8d8416f51017911f.bindTooltip%28%0A%20%20%20%20%20%20%20%20%20%20%20%20%20%20%20%20%60%3Cdiv%3E%0A%20%20%20%20%20%20%20%20%20%20%20%20%20%20%20%20%20%20%20%20%20P%C3%A1del%20Club%0A%20%20%20%20%20%20%20%20%20%20%20%20%20%20%20%20%20%3C/div%3E%60%2C%0A%20%20%20%20%20%20%20%20%20%20%20%20%20%20%20%20%7B%22sticky%22%3A%20true%7D%0A%20%20%20%20%20%20%20%20%20%20%20%20%29%3B%0A%20%20%20%20%20%20%20%20%0A%20%20%20%20%0A%20%20%20%20%20%20%20%20%20%20%20%20var%20marker_90d49b26df1541d7be23ad194963fd3d%20%3D%20L.marker%28%0A%20%20%20%20%20%20%20%20%20%20%20%20%20%20%20%20%5B40.3396904%2C%20-3.8083759%5D%2C%0A%20%20%20%20%20%20%20%20%20%20%20%20%20%20%20%20%7B%7D%0A%20%20%20%20%20%20%20%20%20%20%20%20%29.addTo%28map_b915d61ca0c94011a8e9d7d4276e6540%29%3B%0A%20%20%20%20%20%20%20%20%0A%20%20%20%20%0A%20%20%20%20%20%20%20%20%20%20%20%20var%20icon_05680be8902b4c3ba5b5bf0b2ac77af1%20%3D%20L.AwesomeMarkers.icon%28%0A%20%20%20%20%20%20%20%20%20%20%20%20%20%20%20%20%7B%22extraClasses%22%3A%20%22fa-rotate-0%22%2C%20%22icon%22%3A%20%22star%22%2C%20%22iconColor%22%3A%20%22black%22%2C%20%22markerColor%22%3A%20%22orange%22%2C%20%22prefix%22%3A%20%22fa%22%7D%0A%20%20%20%20%20%20%20%20%20%20%20%20%29%3B%0A%20%20%20%20%20%20%20%20%20%20%20%20marker_90d49b26df1541d7be23ad194963fd3d.setIcon%28icon_05680be8902b4c3ba5b5bf0b2ac77af1%29%3B%0A%20%20%20%20%20%20%20%20%0A%20%20%20%20%0A%20%20%20%20%20%20%20%20%20%20%20%20marker_90d49b26df1541d7be23ad194963fd3d.bindTooltip%28%0A%20%20%20%20%20%20%20%20%20%20%20%20%20%20%20%20%60%3Cdiv%3E%0A%20%20%20%20%20%20%20%20%20%20%20%20%20%20%20%20%20%20%20%20%20Europadel%0A%20%20%20%20%20%20%20%20%20%20%20%20%20%20%20%20%20%3C/div%3E%60%2C%0A%20%20%20%20%20%20%20%20%20%20%20%20%20%20%20%20%7B%22sticky%22%3A%20true%7D%0A%20%20%20%20%20%20%20%20%20%20%20%20%29%3B%0A%20%20%20%20%20%20%20%20%0A%20%20%20%20%0A%20%20%20%20%20%20%20%20%20%20%20%20var%20marker_3ded2e7557574c9bb7ffc2b6cc59320c%20%3D%20L.marker%28%0A%20%20%20%20%20%20%20%20%20%20%20%20%20%20%20%20%5B40.5026219%2C%20-3.6738564%5D%2C%0A%20%20%20%20%20%20%20%20%20%20%20%20%20%20%20%20%7B%7D%0A%20%20%20%20%20%20%20%20%20%20%20%20%29.addTo%28map_b915d61ca0c94011a8e9d7d4276e6540%29%3B%0A%20%20%20%20%20%20%20%20%0A%20%20%20%20%0A%20%20%20%20%20%20%20%20%20%20%20%20var%20icon_77484321061a45f293a731566ad7fc59%20%3D%20L.AwesomeMarkers.icon%28%0A%20%20%20%20%20%20%20%20%20%20%20%20%20%20%20%20%7B%22extraClasses%22%3A%20%22fa-rotate-0%22%2C%20%22icon%22%3A%20%22star%22%2C%20%22iconColor%22%3A%20%22black%22%2C%20%22markerColor%22%3A%20%22green%22%2C%20%22prefix%22%3A%20%22fa%22%7D%0A%20%20%20%20%20%20%20%20%20%20%20%20%29%3B%0A%20%20%20%20%20%20%20%20%20%20%20%20marker_3ded2e7557574c9bb7ffc2b6cc59320c.setIcon%28icon_77484321061a45f293a731566ad7fc59%29%3B%0A%20%20%20%20%20%20%20%20%0A%20%20%20%20%0A%20%20%20%20%20%20%20%20%20%20%20%20marker_3ded2e7557574c9bb7ffc2b6cc59320c.bindTooltip%28%0A%20%20%20%20%20%20%20%20%20%20%20%20%20%20%20%20%60%3Cdiv%3E%0A%20%20%20%20%20%20%20%20%20%20%20%20%20%20%20%20%20%20%20%20%20P%C3%A1del%20Madrid%0A%20%20%20%20%20%20%20%20%20%20%20%20%20%20%20%20%20%3C/div%3E%60%2C%0A%20%20%20%20%20%20%20%20%20%20%20%20%20%20%20%20%7B%22sticky%22%3A%20true%7D%0A%20%20%20%20%20%20%20%20%20%20%20%20%29%3B%0A%20%20%20%20%20%20%20%20%0A%20%20%20%20%0A%20%20%20%20%20%20%20%20%20%20%20%20var%20marker_c86e58c443244f10846a0fb135616473%20%3D%20L.marker%28%0A%20%20%20%20%20%20%20%20%20%20%20%20%20%20%20%20%5B19.363058%2C%20-99.289435%5D%2C%0A%20%20%20%20%20%20%20%20%20%20%20%20%20%20%20%20%7B%7D%0A%20%20%20%20%20%20%20%20%20%20%20%20%29.addTo%28map_b915d61ca0c94011a8e9d7d4276e6540%29%3B%0A%20%20%20%20%20%20%20%20%0A%20%20%20%20%0A%20%20%20%20%20%20%20%20%20%20%20%20var%20icon_b9f751f9469d4698878d830ca99742ec%20%3D%20L.AwesomeMarkers.icon%28%0A%20%20%20%20%20%20%20%20%20%20%20%20%20%20%20%20%7B%22extraClasses%22%3A%20%22fa-rotate-0%22%2C%20%22icon%22%3A%20%22star%22%2C%20%22iconColor%22%3A%20%22black%22%2C%20%22markerColor%22%3A%20%22orange%22%2C%20%22prefix%22%3A%20%22fa%22%7D%0A%20%20%20%20%20%20%20%20%20%20%20%20%29%3B%0A%20%20%20%20%20%20%20%20%20%20%20%20marker_c86e58c443244f10846a0fb135616473.setIcon%28icon_b9f751f9469d4698878d830ca99742ec%29%3B%0A%20%20%20%20%20%20%20%20%0A%20%20%20%20%0A%20%20%20%20%20%20%20%20%20%20%20%20marker_c86e58c443244f10846a0fb135616473.bindTooltip%28%0A%20%20%20%20%20%20%20%20%20%20%20%20%20%20%20%20%60%3Cdiv%3E%0A%20%20%20%20%20%20%20%20%20%20%20%20%20%20%20%20%20%20%20%20%20Club%20el%20Padelito%0A%20%20%20%20%20%20%20%20%20%20%20%20%20%20%20%20%20%3C/div%3E%60%2C%0A%20%20%20%20%20%20%20%20%20%20%20%20%20%20%20%20%7B%22sticky%22%3A%20true%7D%0A%20%20%20%20%20%20%20%20%20%20%20%20%29%3B%0A%20%20%20%20%20%20%20%20%0A%20%20%20%20%0A%20%20%20%20%20%20%20%20%20%20%20%20var%20marker_482de15b3003415c9b51109dd4289d9b%20%3D%20L.marker%28%0A%20%20%20%20%20%20%20%20%20%20%20%20%20%20%20%20%5B43.2880839%2C%20-3.0143344%5D%2C%0A%20%20%20%20%20%20%20%20%20%20%20%20%20%20%20%20%7B%7D%0A%20%20%20%20%20%20%20%20%20%20%20%20%29.addTo%28map_b915d61ca0c94011a8e9d7d4276e6540%29%3B%0A%20%20%20%20%20%20%20%20%0A%20%20%20%20%0A%20%20%20%20%20%20%20%20%20%20%20%20var%20icon_29ed35b2f1654d28b0ab74587d60782c%20%3D%20L.AwesomeMarkers.icon%28%0A%20%20%20%20%20%20%20%20%20%20%20%20%20%20%20%20%7B%22extraClasses%22%3A%20%22fa-rotate-0%22%2C%20%22icon%22%3A%20%22star%22%2C%20%22iconColor%22%3A%20%22black%22%2C%20%22markerColor%22%3A%20%22orange%22%2C%20%22prefix%22%3A%20%22fa%22%7D%0A%20%20%20%20%20%20%20%20%20%20%20%20%29%3B%0A%20%20%20%20%20%20%20%20%20%20%20%20marker_482de15b3003415c9b51109dd4289d9b.setIcon%28icon_29ed35b2f1654d28b0ab74587d60782c%29%3B%0A%20%20%20%20%20%20%20%20%0A%20%20%20%20%0A%20%20%20%20%20%20%20%20%20%20%20%20marker_482de15b3003415c9b51109dd4289d9b.bindTooltip%28%0A%20%20%20%20%20%20%20%20%20%20%20%20%20%20%20%20%60%3Cdiv%3E%0A%20%20%20%20%20%20%20%20%20%20%20%20%20%20%20%20%20%20%20%20%20Padel%20Indoor%0A%20%20%20%20%20%20%20%20%20%20%20%20%20%20%20%20%20%3C/div%3E%60%2C%0A%20%20%20%20%20%20%20%20%20%20%20%20%20%20%20%20%7B%22sticky%22%3A%20true%7D%0A%20%20%20%20%20%20%20%20%20%20%20%20%29%3B%0A%20%20%20%20%20%20%20%20%0A%20%20%20%20%0A%20%20%20%20%20%20%20%20%20%20%20%20var%20marker_7e1ba2462a23457598ea04ad13730cf6%20%3D%20L.marker%28%0A%20%20%20%20%20%20%20%20%20%20%20%20%20%20%20%20%5B55.412579%2C%2010.385509%5D%2C%0A%20%20%20%20%20%20%20%20%20%20%20%20%20%20%20%20%7B%7D%0A%20%20%20%20%20%20%20%20%20%20%20%20%29.addTo%28map_b915d61ca0c94011a8e9d7d4276e6540%29%3B%0A%20%20%20%20%20%20%20%20%0A%20%20%20%20%0A%20%20%20%20%20%20%20%20%20%20%20%20var%20icon_0bd0187f2075490296532ea5718ef298%20%3D%20L.AwesomeMarkers.icon%28%0A%20%20%20%20%20%20%20%20%20%20%20%20%20%20%20%20%7B%22extraClasses%22%3A%20%22fa-rotate-0%22%2C%20%22icon%22%3A%20%22star%22%2C%20%22iconColor%22%3A%20%22black%22%2C%20%22markerColor%22%3A%20%22orange%22%2C%20%22prefix%22%3A%20%22fa%22%7D%0A%20%20%20%20%20%20%20%20%20%20%20%20%29%3B%0A%20%20%20%20%20%20%20%20%20%20%20%20marker_7e1ba2462a23457598ea04ad13730cf6.setIcon%28icon_0bd0187f2075490296532ea5718ef298%29%3B%0A%20%20%20%20%20%20%20%20%0A%20%20%20%20%0A%20%20%20%20%20%20%20%20%20%20%20%20marker_7e1ba2462a23457598ea04ad13730cf6.bindTooltip%28%0A%20%20%20%20%20%20%20%20%20%20%20%20%20%20%20%20%60%3Cdiv%3E%0A%20%20%20%20%20%20%20%20%20%20%20%20%20%20%20%20%20%20%20%20%20Padel%20Box%0A%20%20%20%20%20%20%20%20%20%20%20%20%20%20%20%20%20%3C/div%3E%60%2C%0A%20%20%20%20%20%20%20%20%20%20%20%20%20%20%20%20%7B%22sticky%22%3A%20true%7D%0A%20%20%20%20%20%20%20%20%20%20%20%20%29%3B%0A%20%20%20%20%20%20%20%20%0A%20%20%20%20%0A%20%20%20%20%20%20%20%20%20%20%20%20var%20marker_274850ace70d4d719b493ce7a4fff007%20%3D%20L.marker%28%0A%20%20%20%20%20%20%20%20%20%20%20%20%20%20%20%20%5B51.150648%2C%204.424731%5D%2C%0A%20%20%20%20%20%20%20%20%20%20%20%20%20%20%20%20%7B%7D%0A%20%20%20%20%20%20%20%20%20%20%20%20%29.addTo%28map_b915d61ca0c94011a8e9d7d4276e6540%29%3B%0A%20%20%20%20%20%20%20%20%0A%20%20%20%20%0A%20%20%20%20%20%20%20%20%20%20%20%20var%20icon_7c5a500fb0a74d9da7a3a04d65357cca%20%3D%20L.AwesomeMarkers.icon%28%0A%20%20%20%20%20%20%20%20%20%20%20%20%20%20%20%20%7B%22extraClasses%22%3A%20%22fa-rotate-0%22%2C%20%22icon%22%3A%20%22star%22%2C%20%22iconColor%22%3A%20%22black%22%2C%20%22markerColor%22%3A%20%22orange%22%2C%20%22prefix%22%3A%20%22fa%22%7D%0A%20%20%20%20%20%20%20%20%20%20%20%20%29%3B%0A%20%20%20%20%20%20%20%20%20%20%20%20marker_274850ace70d4d719b493ce7a4fff007.setIcon%28icon_7c5a500fb0a74d9da7a3a04d65357cca%29%3B%0A%20%20%20%20%20%20%20%20%0A%20%20%20%20%0A%20%20%20%20%20%20%20%20%20%20%20%20marker_274850ace70d4d719b493ce7a4fff007.bindTooltip%28%0A%20%20%20%20%20%20%20%20%20%20%20%20%20%20%20%20%60%3Cdiv%3E%0A%20%20%20%20%20%20%20%20%20%20%20%20%20%20%20%20%20%20%20%20%20Pro%20Padel%20Point%0A%20%20%20%20%20%20%20%20%20%20%20%20%20%20%20%20%20%3C/div%3E%60%2C%0A%20%20%20%20%20%20%20%20%20%20%20%20%20%20%20%20%7B%22sticky%22%3A%20true%7D%0A%20%20%20%20%20%20%20%20%20%20%20%20%29%3B%0A%20%20%20%20%20%20%20%20%0A%20%20%20%20%0A%20%20%20%20%20%20%20%20%20%20%20%20var%20marker_e78ff77b4b754b24a8194198a11af04a%20%3D%20L.marker%28%0A%20%20%20%20%20%20%20%20%20%20%20%20%20%20%20%20%5B43.289526%2C%20-3.013408%5D%2C%0A%20%20%20%20%20%20%20%20%20%20%20%20%20%20%20%20%7B%7D%0A%20%20%20%20%20%20%20%20%20%20%20%20%29.addTo%28map_b915d61ca0c94011a8e9d7d4276e6540%29%3B%0A%20%20%20%20%20%20%20%20%0A%20%20%20%20%0A%20%20%20%20%20%20%20%20%20%20%20%20var%20icon_ed3476488d8f4b92bdce48956cfc31ef%20%3D%20L.AwesomeMarkers.icon%28%0A%20%20%20%20%20%20%20%20%20%20%20%20%20%20%20%20%7B%22extraClasses%22%3A%20%22fa-rotate-0%22%2C%20%22icon%22%3A%20%22star%22%2C%20%22iconColor%22%3A%20%22black%22%2C%20%22markerColor%22%3A%20%22orange%22%2C%20%22prefix%22%3A%20%22fa%22%7D%0A%20%20%20%20%20%20%20%20%20%20%20%20%29%3B%0A%20%20%20%20%20%20%20%20%20%20%20%20marker_e78ff77b4b754b24a8194198a11af04a.setIcon%28icon_ed3476488d8f4b92bdce48956cfc31ef%29%3B%0A%20%20%20%20%20%20%20%20%0A%20%20%20%20%0A%20%20%20%20%20%20%20%20%20%20%20%20marker_e78ff77b4b754b24a8194198a11af04a.bindTooltip%28%0A%20%20%20%20%20%20%20%20%20%20%20%20%20%20%20%20%60%3Cdiv%3E%0A%20%20%20%20%20%20%20%20%20%20%20%20%20%20%20%20%20%20%20%20%20Padel%20Indoor%0A%20%20%20%20%20%20%20%20%20%20%20%20%20%20%20%20%20%3C/div%3E%60%2C%0A%20%20%20%20%20%20%20%20%20%20%20%20%20%20%20%20%7B%22sticky%22%3A%20true%7D%0A%20%20%20%20%20%20%20%20%20%20%20%20%29%3B%0A%20%20%20%20%20%20%20%20%0A%20%20%20%20%0A%20%20%20%20%20%20%20%20%20%20%20%20var%20marker_5ca695b1d0454bf981b16f2997c07d0d%20%3D%20L.marker%28%0A%20%20%20%20%20%20%20%20%20%20%20%20%20%20%20%20%5B40.386939%2C%20-3.623781%5D%2C%0A%20%20%20%20%20%20%20%20%20%20%20%20%20%20%20%20%7B%7D%0A%20%20%20%20%20%20%20%20%20%20%20%20%29.addTo%28map_b915d61ca0c94011a8e9d7d4276e6540%29%3B%0A%20%20%20%20%20%20%20%20%0A%20%20%20%20%0A%20%20%20%20%20%20%20%20%20%20%20%20var%20icon_bc85bfd967d346b8b18485d758c1fa46%20%3D%20L.AwesomeMarkers.icon%28%0A%20%20%20%20%20%20%20%20%20%20%20%20%20%20%20%20%7B%22extraClasses%22%3A%20%22fa-rotate-0%22%2C%20%22icon%22%3A%20%22star%22%2C%20%22iconColor%22%3A%20%22black%22%2C%20%22markerColor%22%3A%20%22green%22%2C%20%22prefix%22%3A%20%22fa%22%7D%0A%20%20%20%20%20%20%20%20%20%20%20%20%29%3B%0A%20%20%20%20%20%20%20%20%20%20%20%20marker_5ca695b1d0454bf981b16f2997c07d0d.setIcon%28icon_bc85bfd967d346b8b18485d758c1fa46%29%3B%0A%20%20%20%20%20%20%20%20%0A%20%20%20%20%0A%20%20%20%20%20%20%20%20%20%20%20%20marker_5ca695b1d0454bf981b16f2997c07d0d.bindTooltip%28%0A%20%20%20%20%20%20%20%20%20%20%20%20%20%20%20%20%60%3Cdiv%3E%0A%20%20%20%20%20%20%20%20%20%20%20%20%20%20%20%20%20%20%20%20%20P%C3%A1del%20Club%0A%20%20%20%20%20%20%20%20%20%20%20%20%20%20%20%20%20%3C/div%3E%60%2C%0A%20%20%20%20%20%20%20%20%20%20%20%20%20%20%20%20%7B%22sticky%22%3A%20true%7D%0A%20%20%20%20%20%20%20%20%20%20%20%20%29%3B%0A%20%20%20%20%20%20%20%20%0A%20%20%20%20%0A%20%20%20%20%20%20%20%20%20%20%20%20var%20marker_d1f99d26eb95451c8e8fdf3fcf4179fd%20%3D%20L.marker%28%0A%20%20%20%20%20%20%20%20%20%20%20%20%20%20%20%20%5B45.5641503%2C%209.1514572%5D%2C%0A%20%20%20%20%20%20%20%20%20%20%20%20%20%20%20%20%7B%7D%0A%20%20%20%20%20%20%20%20%20%20%20%20%29.addTo%28map_b915d61ca0c94011a8e9d7d4276e6540%29%3B%0A%20%20%20%20%20%20%20%20%0A%20%20%20%20%0A%20%20%20%20%20%20%20%20%20%20%20%20var%20icon_f1c713b7992743928498d0d1908af0bc%20%3D%20L.AwesomeMarkers.icon%28%0A%20%20%20%20%20%20%20%20%20%20%20%20%20%20%20%20%7B%22extraClasses%22%3A%20%22fa-rotate-0%22%2C%20%22icon%22%3A%20%22star%22%2C%20%22iconColor%22%3A%20%22black%22%2C%20%22markerColor%22%3A%20%22orange%22%2C%20%22prefix%22%3A%20%22fa%22%7D%0A%20%20%20%20%20%20%20%20%20%20%20%20%29%3B%0A%20%20%20%20%20%20%20%20%20%20%20%20marker_d1f99d26eb95451c8e8fdf3fcf4179fd.setIcon%28icon_f1c713b7992743928498d0d1908af0bc%29%3B%0A%20%20%20%20%20%20%20%20%0A%20%20%20%20%0A%20%20%20%20%20%20%20%20%20%20%20%20marker_d1f99d26eb95451c8e8fdf3fcf4179fd.bindTooltip%28%0A%20%20%20%20%20%20%20%20%20%20%20%20%20%20%20%20%60%3Cdiv%3E%0A%20%20%20%20%20%20%20%20%20%20%20%20%20%20%20%20%20%20%20%20%20Padel%20Elite%20Top%20Club%0A%20%20%20%20%20%20%20%20%20%20%20%20%20%20%20%20%20%3C/div%3E%60%2C%0A%20%20%20%20%20%20%20%20%20%20%20%20%20%20%20%20%7B%22sticky%22%3A%20true%7D%0A%20%20%20%20%20%20%20%20%20%20%20%20%29%3B%0A%20%20%20%20%20%20%20%20%0A%20%20%20%20%0A%20%20%20%20%20%20%20%20%20%20%20%20var%20marker_94f7a91584594f18aa4ffbfa3cc6705e%20%3D%20L.marker%28%0A%20%20%20%20%20%20%20%20%20%20%20%20%20%20%20%20%5B56.12043582%2C%209.17116514%5D%2C%0A%20%20%20%20%20%20%20%20%20%20%20%20%20%20%20%20%7B%7D%0A%20%20%20%20%20%20%20%20%20%20%20%20%29.addTo%28map_b915d61ca0c94011a8e9d7d4276e6540%29%3B%0A%20%20%20%20%20%20%20%20%0A%20%20%20%20%0A%20%20%20%20%20%20%20%20%20%20%20%20var%20icon_d5354a8d50534feab297dfd49dd90511%20%3D%20L.AwesomeMarkers.icon%28%0A%20%20%20%20%20%20%20%20%20%20%20%20%20%20%20%20%7B%22extraClasses%22%3A%20%22fa-rotate-0%22%2C%20%22icon%22%3A%20%22star%22%2C%20%22iconColor%22%3A%20%22black%22%2C%20%22markerColor%22%3A%20%22orange%22%2C%20%22prefix%22%3A%20%22fa%22%7D%0A%20%20%20%20%20%20%20%20%20%20%20%20%29%3B%0A%20%20%20%20%20%20%20%20%20%20%20%20marker_94f7a91584594f18aa4ffbfa3cc6705e.setIcon%28icon_d5354a8d50534feab297dfd49dd90511%29%3B%0A%20%20%20%20%20%20%20%20%0A%20%20%20%20%0A%20%20%20%20%20%20%20%20%20%20%20%20marker_94f7a91584594f18aa4ffbfa3cc6705e.bindTooltip%28%0A%20%20%20%20%20%20%20%20%20%20%20%20%20%20%20%20%60%3Cdiv%3E%0A%20%20%20%20%20%20%20%20%20%20%20%20%20%20%20%20%20%20%20%20%20World%20of%20Padel%0A%20%20%20%20%20%20%20%20%20%20%20%20%20%20%20%20%20%3C/div%3E%60%2C%0A%20%20%20%20%20%20%20%20%20%20%20%20%20%20%20%20%7B%22sticky%22%3A%20true%7D%0A%20%20%20%20%20%20%20%20%20%20%20%20%29%3B%0A%20%20%20%20%20%20%20%20%0A%3C/script%3E onload=\"this.contentDocument.open();this.contentDocument.write(    decodeURIComponent(this.getAttribute('data-html')));this.contentDocument.close();\" allowfullscreen webkitallowfullscreen mozallowfullscreen></iframe></div></div>"
      ],
      "text/plain": [
       "<folium.folium.Map at 0x7f7c2a7ed070>"
      ]
     },
     "execution_count": 25,
     "metadata": {},
     "output_type": "execute_result"
    }
   ],
   "source": [
    "mapa"
   ]
  },
  {
   "cell_type": "markdown",
   "id": "328c7856",
   "metadata": {},
   "source": [
    "#### Concatenated dataframe with all information:"
   ]
  },
  {
   "cell_type": "code",
   "execution_count": 26,
   "id": "38c016f8",
   "metadata": {},
   "outputs": [],
   "source": [
    "total = pd.concat([matches, clubs_info, users], axis=1)"
   ]
  },
  {
   "cell_type": "code",
   "execution_count": 27,
   "id": "e2f2ac1e",
   "metadata": {},
   "outputs": [
    {
     "data": {
      "text/html": [
       "<div>\n",
       "<style scoped>\n",
       "    .dataframe tbody tr th:only-of-type {\n",
       "        vertical-align: middle;\n",
       "    }\n",
       "\n",
       "    .dataframe tbody tr th {\n",
       "        vertical-align: top;\n",
       "    }\n",
       "\n",
       "    .dataframe thead th {\n",
       "        text-align: right;\n",
       "    }\n",
       "</style>\n",
       "<table border=\"1\" class=\"dataframe\">\n",
       "  <thead>\n",
       "    <tr style=\"text-align: right;\">\n",
       "      <th></th>\n",
       "      <th>_id</th>\n",
       "      <th>is_canceled</th>\n",
       "      <th>created_at</th>\n",
       "      <th>start_date</th>\n",
       "      <th>end_date</th>\n",
       "      <th>owner_id</th>\n",
       "      <th>sport_id</th>\n",
       "      <th>club_id</th>\n",
       "      <th>club_name</th>\n",
       "      <th>city</th>\n",
       "      <th>Latitud</th>\n",
       "      <th>Longitud</th>\n",
       "      <th>user_id</th>\n",
       "      <th>registration_date</th>\n",
       "      <th>price</th>\n",
       "      <th>currency</th>\n",
       "    </tr>\n",
       "  </thead>\n",
       "  <tbody>\n",
       "    <tr>\n",
       "      <th>0</th>\n",
       "      <td>a57512cb-72da-4136</td>\n",
       "      <td>False</td>\n",
       "      <td>2021-12-30 12:20:02.793 UTC</td>\n",
       "      <td>2021-12-30 13:00:00 UTC</td>\n",
       "      <td>2021-12-30 13:30:00 UTC</td>\n",
       "      <td>AICKMMP</td>\n",
       "      <td>TENNIS</td>\n",
       "      <td>da78dd3c-43b3-11e8</td>\n",
       "      <td>Pádel Club</td>\n",
       "      <td>Madrid</td>\n",
       "      <td>40.499493</td>\n",
       "      <td>-3.713107</td>\n",
       "      <td>AICKMMP</td>\n",
       "      <td>2021-12-30 12:21:02.793 UTC</td>\n",
       "      <td>6.25</td>\n",
       "      <td>EUR</td>\n",
       "    </tr>\n",
       "    <tr>\n",
       "      <th>1</th>\n",
       "      <td>644817a3-6bc2-4e34</td>\n",
       "      <td>False</td>\n",
       "      <td>2021-11-07 19:14:45.37 UTC</td>\n",
       "      <td>2021-11-07 18:30:00 UTC</td>\n",
       "      <td>2021-11-07 19:00:00 UTC</td>\n",
       "      <td>AKPKMI</td>\n",
       "      <td>TENNIS</td>\n",
       "      <td>da78dd3c-43b3-11e8</td>\n",
       "      <td>Pádel Club</td>\n",
       "      <td>Madrid</td>\n",
       "      <td>40.499493</td>\n",
       "      <td>-3.713107</td>\n",
       "      <td>AKPKMI</td>\n",
       "      <td>2021-11-07 19:15:45.37 UTC</td>\n",
       "      <td>7.25</td>\n",
       "      <td>EUR</td>\n",
       "    </tr>\n",
       "    <tr>\n",
       "      <th>2</th>\n",
       "      <td>cae7df5b-c7c6-4254</td>\n",
       "      <td>False</td>\n",
       "      <td>2021-10-31 13:21:11.241 UTC</td>\n",
       "      <td>2021-11-01 12:00:00 UTC</td>\n",
       "      <td>2021-11-01 12:30:00 UTC</td>\n",
       "      <td>CPAPMM</td>\n",
       "      <td>PADEL</td>\n",
       "      <td>da78dd3c-43b3-11e8</td>\n",
       "      <td>Pádel Club</td>\n",
       "      <td>Madrid</td>\n",
       "      <td>40.499493</td>\n",
       "      <td>-3.713107</td>\n",
       "      <td>CPAPMM</td>\n",
       "      <td>2021-10-31 13:22:11.241 UTC</td>\n",
       "      <td>7.75</td>\n",
       "      <td>EUR</td>\n",
       "    </tr>\n",
       "    <tr>\n",
       "      <th>3</th>\n",
       "      <td>93a9a542-a91a-4342</td>\n",
       "      <td>True</td>\n",
       "      <td>2021-10-07 17:37:23.694 UTC</td>\n",
       "      <td>2021-10-11 08:00:00 UTC</td>\n",
       "      <td>2021-10-11 09:30:00 UTC</td>\n",
       "      <td>IKMPK</td>\n",
       "      <td>PADEL</td>\n",
       "      <td>da78dd3c-43b3-11e8</td>\n",
       "      <td>Pádel Club</td>\n",
       "      <td>Madrid</td>\n",
       "      <td>40.499493</td>\n",
       "      <td>-3.713107</td>\n",
       "      <td>IKMPK</td>\n",
       "      <td>2021-10-07 17:38:23.694 UTC</td>\n",
       "      <td>10.50</td>\n",
       "      <td>EUR</td>\n",
       "    </tr>\n",
       "    <tr>\n",
       "      <th>4</th>\n",
       "      <td>42680533-6e5d-43e6</td>\n",
       "      <td>False</td>\n",
       "      <td>2021-10-02 09:06:17.116 UTC</td>\n",
       "      <td>2021-10-09 09:00:00 UTC</td>\n",
       "      <td>2021-10-09 10:00:00 UTC</td>\n",
       "      <td>ACPAIME</td>\n",
       "      <td>TENNIS</td>\n",
       "      <td>da78dd3c-43b3-11e8</td>\n",
       "      <td>Pádel Club</td>\n",
       "      <td>Madrid</td>\n",
       "      <td>40.499493</td>\n",
       "      <td>-3.713107</td>\n",
       "      <td>ACPAIME</td>\n",
       "      <td>2021-10-02 09:07:17.116 UTC</td>\n",
       "      <td>12.50</td>\n",
       "      <td>EUR</td>\n",
       "    </tr>\n",
       "  </tbody>\n",
       "</table>\n",
       "</div>"
      ],
      "text/plain": [
       "                  _id  is_canceled                   created_at  \\\n",
       "0  a57512cb-72da-4136        False  2021-12-30 12:20:02.793 UTC   \n",
       "1  644817a3-6bc2-4e34        False   2021-11-07 19:14:45.37 UTC   \n",
       "2  cae7df5b-c7c6-4254        False  2021-10-31 13:21:11.241 UTC   \n",
       "3  93a9a542-a91a-4342         True  2021-10-07 17:37:23.694 UTC   \n",
       "4  42680533-6e5d-43e6        False  2021-10-02 09:06:17.116 UTC   \n",
       "\n",
       "                start_date                 end_date owner_id sport_id  \\\n",
       "0  2021-12-30 13:00:00 UTC  2021-12-30 13:30:00 UTC  AICKMMP   TENNIS   \n",
       "1  2021-11-07 18:30:00 UTC  2021-11-07 19:00:00 UTC   AKPKMI   TENNIS   \n",
       "2  2021-11-01 12:00:00 UTC  2021-11-01 12:30:00 UTC   CPAPMM    PADEL   \n",
       "3  2021-10-11 08:00:00 UTC  2021-10-11 09:30:00 UTC    IKMPK    PADEL   \n",
       "4  2021-10-09 09:00:00 UTC  2021-10-09 10:00:00 UTC  ACPAIME   TENNIS   \n",
       "\n",
       "              club_id   club_name    city    Latitud  Longitud  user_id  \\\n",
       "0  da78dd3c-43b3-11e8  Pádel Club  Madrid  40.499493 -3.713107  AICKMMP   \n",
       "1  da78dd3c-43b3-11e8  Pádel Club  Madrid  40.499493 -3.713107   AKPKMI   \n",
       "2  da78dd3c-43b3-11e8  Pádel Club  Madrid  40.499493 -3.713107   CPAPMM   \n",
       "3  da78dd3c-43b3-11e8  Pádel Club  Madrid  40.499493 -3.713107    IKMPK   \n",
       "4  da78dd3c-43b3-11e8  Pádel Club  Madrid  40.499493 -3.713107  ACPAIME   \n",
       "\n",
       "             registration_date  price currency  \n",
       "0  2021-12-30 12:21:02.793 UTC   6.25      EUR  \n",
       "1   2021-11-07 19:15:45.37 UTC   7.25      EUR  \n",
       "2  2021-10-31 13:22:11.241 UTC   7.75      EUR  \n",
       "3  2021-10-07 17:38:23.694 UTC  10.50      EUR  \n",
       "4  2021-10-02 09:07:17.116 UTC  12.50      EUR  "
      ]
     },
     "execution_count": 27,
     "metadata": {},
     "output_type": "execute_result"
    }
   ],
   "source": [
    "total.head()"
   ]
  },
  {
   "cell_type": "code",
   "execution_count": 31,
   "id": "6a96ecf9",
   "metadata": {},
   "outputs": [
    {
     "data": {
      "text/plain": [
       "array([False,  True])"
      ]
     },
     "execution_count": 31,
     "metadata": {},
     "output_type": "execute_result"
    }
   ],
   "source": [
    "total[\"is_canceled\"].unique()"
   ]
  },
  {
   "cell_type": "markdown",
   "id": "6ad72699",
   "metadata": {},
   "source": [
    "#### How many matches have been played overall?"
   ]
  },
  {
   "cell_type": "markdown",
   "id": "183c8a9c",
   "metadata": {},
   "source": [
    "70,985 matches have been played."
   ]
  },
  {
   "cell_type": "code",
   "execution_count": 36,
   "id": "f1969a51",
   "metadata": {},
   "outputs": [],
   "source": [
    "played=total.loc[(total[\"is_canceled\"]== False)]"
   ]
  },
  {
   "cell_type": "code",
   "execution_count": 41,
   "id": "a10f17ef",
   "metadata": {},
   "outputs": [
    {
     "data": {
      "text/plain": [
       "(70985, 16)"
      ]
     },
     "execution_count": 41,
     "metadata": {},
     "output_type": "execute_result"
    }
   ],
   "source": [
    "played.shape"
   ]
  },
  {
   "cell_type": "markdown",
   "id": "f8b20acc",
   "metadata": {},
   "source": [
    "# Matches history json:"
   ]
  },
  {
   "cell_type": "code",
   "execution_count": 4,
   "id": "055ee961",
   "metadata": {},
   "outputs": [],
   "source": [
    "history=pd.DataFrame(history_list)"
   ]
  },
  {
   "cell_type": "code",
   "execution_count": 5,
   "id": "c964378f",
   "metadata": {},
   "outputs": [
    {
     "data": {
      "text/html": [
       "<div>\n",
       "<style scoped>\n",
       "    .dataframe tbody tr th:only-of-type {\n",
       "        vertical-align: middle;\n",
       "    }\n",
       "\n",
       "    .dataframe tbody tr th {\n",
       "        vertical-align: top;\n",
       "    }\n",
       "\n",
       "    .dataframe thead th {\n",
       "        text-align: right;\n",
       "    }\n",
       "</style>\n",
       "<table border=\"1\" class=\"dataframe\">\n",
       "  <thead>\n",
       "    <tr style=\"text-align: right;\">\n",
       "      <th></th>\n",
       "      <th>_id</th>\n",
       "      <th>match_id</th>\n",
       "      <th>created_at</th>\n",
       "      <th>event_type</th>\n",
       "      <th>requester_type</th>\n",
       "      <th>requester_id</th>\n",
       "      <th>user_id</th>\n",
       "      <th>cancel_reason</th>\n",
       "    </tr>\n",
       "  </thead>\n",
       "  <tbody>\n",
       "    <tr>\n",
       "      <th>0</th>\n",
       "      <td>1b1859b1-63ba-47be</td>\n",
       "      <td>9a2b868c-fae4-494a</td>\n",
       "      <td>2021-12-15 11:23:38.24 UTC</td>\n",
       "      <td>PLAYER_ADDED</td>\n",
       "      <td>SYSTEM</td>\n",
       "      <td>EEGEI</td>\n",
       "      <td>AAEAKIR</td>\n",
       "      <td>NaN</td>\n",
       "    </tr>\n",
       "    <tr>\n",
       "      <th>1</th>\n",
       "      <td>27034602-f4c4-4efa</td>\n",
       "      <td>9a2b868c-fae4-494a</td>\n",
       "      <td>2021-12-15 11:23:38.243 UTC</td>\n",
       "      <td>PLAYER_ADDED</td>\n",
       "      <td>SYSTEM</td>\n",
       "      <td>EEGEI</td>\n",
       "      <td>ACRKPAA</td>\n",
       "      <td>NaN</td>\n",
       "    </tr>\n",
       "    <tr>\n",
       "      <th>2</th>\n",
       "      <td>105a242d-f9c2-4ac6</td>\n",
       "      <td>9a2b868c-fae4-494a</td>\n",
       "      <td>2021-12-15 11:23:38.227 UTC</td>\n",
       "      <td>PLAYER_ADDED</td>\n",
       "      <td>SYSTEM</td>\n",
       "      <td>EEGEI</td>\n",
       "      <td>AAECMPG</td>\n",
       "      <td>NaN</td>\n",
       "    </tr>\n",
       "    <tr>\n",
       "      <th>3</th>\n",
       "      <td>19032d60-dd6a-43cf</td>\n",
       "      <td>9a2b868c-fae4-494a</td>\n",
       "      <td>2021-12-15 11:23:38.216 UTC</td>\n",
       "      <td>MATCH_CREATED</td>\n",
       "      <td>SYSTEM</td>\n",
       "      <td>EEGEI</td>\n",
       "      <td>NaN</td>\n",
       "      <td>NaN</td>\n",
       "    </tr>\n",
       "    <tr>\n",
       "      <th>4</th>\n",
       "      <td>fa3a57c2-affc-4732</td>\n",
       "      <td>9a2b868c-fae4-494a</td>\n",
       "      <td>2021-12-18 13:06:53.03 UTC</td>\n",
       "      <td>PLAYER_REMOVED</td>\n",
       "      <td>CUSTOMER_OWNER</td>\n",
       "      <td>EEGEI</td>\n",
       "      <td>AAEAKIR</td>\n",
       "      <td>NaN</td>\n",
       "    </tr>\n",
       "  </tbody>\n",
       "</table>\n",
       "</div>"
      ],
      "text/plain": [
       "                  _id            match_id                   created_at  \\\n",
       "0  1b1859b1-63ba-47be  9a2b868c-fae4-494a   2021-12-15 11:23:38.24 UTC   \n",
       "1  27034602-f4c4-4efa  9a2b868c-fae4-494a  2021-12-15 11:23:38.243 UTC   \n",
       "2  105a242d-f9c2-4ac6  9a2b868c-fae4-494a  2021-12-15 11:23:38.227 UTC   \n",
       "3  19032d60-dd6a-43cf  9a2b868c-fae4-494a  2021-12-15 11:23:38.216 UTC   \n",
       "4  fa3a57c2-affc-4732  9a2b868c-fae4-494a   2021-12-18 13:06:53.03 UTC   \n",
       "\n",
       "       event_type  requester_type requester_id  user_id cancel_reason  \n",
       "0    PLAYER_ADDED          SYSTEM        EEGEI  AAEAKIR           NaN  \n",
       "1    PLAYER_ADDED          SYSTEM        EEGEI  ACRKPAA           NaN  \n",
       "2    PLAYER_ADDED          SYSTEM        EEGEI  AAECMPG           NaN  \n",
       "3   MATCH_CREATED          SYSTEM        EEGEI      NaN           NaN  \n",
       "4  PLAYER_REMOVED  CUSTOMER_OWNER        EEGEI  AAEAKIR           NaN  "
      ]
     },
     "execution_count": 5,
     "metadata": {},
     "output_type": "execute_result"
    }
   ],
   "source": [
    "history.head()"
   ]
  },
  {
   "cell_type": "code",
   "execution_count": 6,
   "id": "cb28c4fc",
   "metadata": {},
   "outputs": [
    {
     "data": {
      "text/plain": [
       "(3313, 8)"
      ]
     },
     "execution_count": 6,
     "metadata": {},
     "output_type": "execute_result"
    }
   ],
   "source": [
    "history.shape"
   ]
  },
  {
   "cell_type": "code",
   "execution_count": 7,
   "id": "dff5693c",
   "metadata": {},
   "outputs": [
    {
     "data": {
      "text/plain": [
       "array(['PLAYER_ADDED', 'MATCH_CREATED', 'PLAYER_REMOVED',\n",
       "       'MATCH_PUBLISHED', 'PLAYER_ACCEPTED', 'PLAYER_JOINED_AND_PAID',\n",
       "       'PLAYER_LEFT', 'PLAYER_REJECTED', 'PLAYER_REQUESTED_SPOT',\n",
       "       'MATCH_CANCELED', 'DEBT_DISCHARGED', 'PLAYER_CONTACT_ADDED',\n",
       "       'PLAYER_JOIN_REQUEST_CANCELED', 'END_TIME_UPDATED',\n",
       "       'START_TIME_UPDATED'], dtype=object)"
      ]
     },
     "execution_count": 7,
     "metadata": {},
     "output_type": "execute_result"
    }
   ],
   "source": [
    "history[\"event_type\"].unique()"
   ]
  },
  {
   "cell_type": "code",
   "execution_count": null,
   "id": "eece719a",
   "metadata": {},
   "outputs": [],
   "source": []
  }
 ],
 "metadata": {
  "kernelspec": {
   "display_name": "ironhack",
   "language": "python",
   "name": "ironhack"
  },
  "language_info": {
   "codemirror_mode": {
    "name": "ipython",
    "version": 3
   },
   "file_extension": ".py",
   "mimetype": "text/x-python",
   "name": "python",
   "nbconvert_exporter": "python",
   "pygments_lexer": "ipython3",
   "version": "3.8.5"
  }
 },
 "nbformat": 4,
 "nbformat_minor": 5
}
